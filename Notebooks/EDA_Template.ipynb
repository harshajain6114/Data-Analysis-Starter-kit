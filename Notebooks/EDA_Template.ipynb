{
  "nbformat": 4,
  "nbformat_minor": 0,
  "metadata": {
    "colab": {
      "provenance": []
    },
    "kernelspec": {
      "name": "python3",
      "display_name": "Python 3"
    },
    "language_info": {
      "name": "python"
    }
  },
  "cells": [
    {
      "cell_type": "code",
      "source": [
        "# 1_EDA_Template.ipynb\n",
        "\n",
        "# ==========================\n",
        "# Exploratory Data Analysis\n",
        "# ==========================\n",
        "# WHEN TO USE:\n",
        "# Always your first step after getting any dataset.\n",
        "# Goal: understand structure, missing values, distributions, correlations,\n",
        "# and patterns that guide cleaning + modeling later.\n",
        "\n",
        "import pandas as pd\n",
        "import matplotlib.pyplot as plt\n",
        "import seaborn as sns"
      ],
      "metadata": {
        "id": "xH8Ja6ldNzI-"
      },
      "execution_count": 2,
      "outputs": []
    },
    {
      "cell_type": "code",
      "source": [
        "# Load dataset (replace path)\n",
        "df = pd.read_csv(\"your_dataset.csv\")"
      ],
      "metadata": {
        "id": "SAe97mTyN14n"
      },
      "execution_count": null,
      "outputs": []
    },
    {
      "cell_type": "code",
      "source": [
        "# --------------------------\n",
        "# Dataset Overview\n",
        "# --------------------------\n",
        "# Use this to quickly check size, columns, and missing values\n",
        "print(\"Shape:\", df.shape)\n",
        "print(\"Columns:\", df.columns.tolist())\n",
        "print(\"\\nFirst 5 rows:\\n\", df.head())\n",
        "print(\"\\nMissing values:\\n\", df.isnull().sum())"
      ],
      "metadata": {
        "id": "aV9ZE8V_N5e4"
      },
      "execution_count": null,
      "outputs": []
    },
    {
      "cell_type": "code",
      "source": [
        "# Summary stats (useful for spotting anomalies/outliers)\n",
        "display(df.describe(include=\"all\"))\n"
      ],
      "metadata": {
        "id": "v5wobjQsN9pX"
      },
      "execution_count": null,
      "outputs": []
    },
    {
      "cell_type": "code",
      "source": [
        "# --------------------------\n",
        "# Univariate Analysis\n",
        "# --------------------------\n",
        "# WHEN TO USE:\n",
        "# To study distributions of single variables before looking at relationships.\n",
        "# Helps find skew, outliers, and dominant categories.\n",
        "\n",
        "# Numeric distributions\n",
        "df.hist(figsize=(12,8), bins=30, edgecolor=\"black\")\n",
        "plt.suptitle(\"Numeric Distributions\", fontsize=16)\n",
        "plt.tight_layout()\n",
        "plt.show()"
      ],
      "metadata": {
        "id": "Iv0MnSIoOAlW"
      },
      "execution_count": null,
      "outputs": []
    },
    {
      "cell_type": "code",
      "source": [
        "# Categorical counts\n",
        "for col in df.select_dtypes(include=[\"object\",\"category\"]).columns:\n",
        "    plt.figure(figsize=(6,4))\n",
        "    sns.countplot(x=col, data=df, order=df[col].value_counts().index)\n",
        "    plt.title(f\"Countplot of {col}\")\n",
        "    plt.xticks(rotation=45)\n",
        "    plt.show()"
      ],
      "metadata": {
        "id": "GVx44IPwOEbe"
      },
      "execution_count": null,
      "outputs": []
    },
    {
      "cell_type": "code",
      "source": [
        "# --------------------------\n",
        "# Bivariate Analysis\n",
        "# --------------------------\n",
        "# WHEN TO USE:\n",
        "# To check how variables interact with each other.\n",
        "# Use correlation for numeric vs numeric, plots for categorical vs numeric.\n",
        "\n",
        "# Correlation heatmap\n",
        "plt.figure(figsize=(8,6))\n",
        "sns.heatmap(df.corr(numeric_only=True), annot=True, cmap=\"coolwarm\")\n",
        "plt.title(\"Correlation Heatmap\")\n",
        "plt.show()"
      ],
      "metadata": {
        "id": "DIy-lay-OHip"
      },
      "execution_count": null,
      "outputs": []
    },
    {
      "cell_type": "code",
      "source": [
        "# Example scatterplot (change columns as per dataset)\n",
        "if \"Age\" in df.columns and \"Fare\" in df.columns:\n",
        "    sns.scatterplot(x=\"Age\", y=\"Fare\", data=df)\n",
        "    plt.title(\"Age vs Fare\")\n",
        "    plt.show()"
      ],
      "metadata": {
        "id": "VPHJFmx_OLiH"
      },
      "execution_count": null,
      "outputs": []
    },
    {
      "cell_type": "code",
      "source": [
        "\n",
        "# --------------------------\n",
        "# Group Analysis\n",
        "# --------------------------\n",
        "# WHEN TO USE:\n",
        "# To check how categories (e.g., Gender, Region) affect outcome/target.\n",
        "\n",
        "if \"Survived\" in df.columns and \"Sex\" in df.columns:\n",
        "    sns.barplot(x=\"Sex\", y=\"Survived\", data=df)\n",
        "    plt.title(\"Survival Rate by Gender\")\n",
        "    plt.show()\n",
        "\n",
        "print(\"✅ EDA finished. Modify plots/columns for your dataset.\")"
      ],
      "metadata": {
        "id": "9y7sVpiwOOiu"
      },
      "execution_count": null,
      "outputs": []
    }
  ]
}